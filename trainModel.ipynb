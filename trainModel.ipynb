{
 "cells": [
  {
   "cell_type": "code",
   "execution_count": 1,
   "outputs": [],
   "source": [
    "import pandas as pd\n",
    "import numpy as np\n",
    "import os\n",
    "import matplotlib.pyplot as plt\n",
    "import cv2\n",
    "from tensorflow.keras.models import Sequential,load_model,Model\n",
    "from tensorflow.keras.layers import Conv2D,MaxPool2D,Dense,Dropout,BatchNormalization,Flatten,Input\n",
    "from sklearn.model_selection import train_test_split\n",
    "from tensorflow.keras.callbacks import ModelCheckpoint\n",
    "import tensorflow as tf"
   ],
   "metadata": {
    "collapsed": false,
    "pycharm": {
     "name": "#%%\n"
    }
   }
  },
  {
   "cell_type": "code",
   "execution_count": 2,
   "outputs": [],
   "source": [
    "path = \"data/UTKFace\""
   ],
   "metadata": {
    "collapsed": false,
    "pycharm": {
     "name": "#%%\n"
    }
   }
  },
  {
   "cell_type": "code",
   "execution_count": 3,
   "outputs": [],
   "source": [
    "pixels = []\n",
    "age = []\n",
    "gender = []\n",
    "for img in os.listdir(path):\n",
    "  ages = img.split(\"_\")[0]\n",
    "  genders = img.split(\"_\")[1]\n",
    "  img = cv2.imread(str(path)+\"/\"+str(img))\n",
    "  img = cv2.cvtColor(img,cv2.COLOR_BGR2RGB)\n",
    "  pixels.append(np.array(img))\n",
    "  age.append(np.array(ages))\n",
    "  gender.append(np.array(genders))"
   ],
   "metadata": {
    "collapsed": false,
    "pycharm": {
     "name": "#%%\n"
    }
   }
  },
  {
   "cell_type": "code",
   "execution_count": 4,
   "outputs": [],
   "source": [
    "age = np.array(age,dtype=np.int64)\n",
    "pixels = np.array(pixels)\n",
    "gender = np.array(gender,np.uint64)"
   ],
   "metadata": {
    "collapsed": false,
    "pycharm": {
     "name": "#%%\n"
    }
   }
  },
  {
   "cell_type": "code",
   "execution_count": 5,
   "outputs": [],
   "source": [
    "x_train,x_test,y_train,y_test = train_test_split(pixels,age,random_state=100, test_size=0.2, shuffle=True)\n",
    "x_train_2,x_test_2,y_train_2,y_test_2 = train_test_split(pixels,gender,random_state=100, test_size=0.2, shuffle=True)"
   ],
   "metadata": {
    "collapsed": false,
    "pycharm": {
     "name": "#%%\n"
    }
   }
  },
  {
   "cell_type": "code",
   "execution_count": 6,
   "outputs": [],
   "source": [
    "input = Input(shape=(200,200,3))\n",
    "conv1 = Conv2D(140,(3,3),activation=\"relu\")(input)\n",
    "conv2 = Conv2D(130,(3,3),activation=\"relu\")(conv1)\n",
    "batch1 = BatchNormalization()(conv2)\n",
    "pool3 = MaxPool2D((2,2))(batch1)\n",
    "conv3 = Conv2D(120,(3,3),activation=\"relu\")(pool3)\n",
    "batch2 = BatchNormalization()(conv3)\n",
    "pool4 = MaxPool2D((2,2))(batch2)\n",
    "flt = Flatten()(pool4)\n",
    "#age\n",
    "age_l = Dense(128,activation=\"relu\")(flt)\n",
    "age_l = Dense(64,activation=\"relu\")(age_l)\n",
    "age_l = Dense(32,activation=\"relu\")(age_l)\n",
    "age_l = Dense(1,activation=\"relu\")(age_l)\n",
    "#gender\n",
    "gender_l = Dense(128,activation=\"relu\")(flt)\n",
    "gender_l = Dense(80,activation=\"relu\")(gender_l)\n",
    "gender_l = Dense(64,activation=\"relu\")(gender_l)\n",
    "gender_l = Dense(32,activation=\"relu\")(gender_l)\n",
    "gender_l = Dropout(0.5)(gender_l)\n",
    "gender_l = Dense(2,activation=\"softmax\")(gender_l)\n"
   ],
   "metadata": {
    "collapsed": false,
    "pycharm": {
     "name": "#%%\n"
    }
   }
  },
  {
   "cell_type": "code",
   "execution_count": 7,
   "outputs": [],
   "source": [
    "fle_s = 'model/AgeGenderModel.h5'\n",
    "checkpoint = ModelCheckpoint(fle_s,monitor='val_loss',verbose=1,save_best_only=True,save_weights_only=False,mode='auto',save_freq='epoch')\n",
    "Early_stop = tf.keras.callbacks.EarlyStopping(patience=75,monitor='val_loss',restore_best_weights=True)\n",
    "callback_list=[checkpoint,Early_stop]"
   ],
   "metadata": {
    "collapsed": false,
    "pycharm": {
     "name": "#%%\n"
    }
   }
  },
  {
   "cell_type": "code",
   "execution_count": 8,
   "outputs": [],
   "source": [
    "model = Model(inputs=input,outputs=[age_l,gender_l])\n",
    "model.compile(optimizer=\"adam\",loss=[\"mse\",\"sparse_categorical_crossentropy\"],metrics=['mae','accuracy'])"
   ],
   "metadata": {
    "collapsed": false,
    "pycharm": {
     "name": "#%%\n"
    }
   }
  },
  {
   "cell_type": "code",
   "execution_count": 9,
   "outputs": [
    {
     "name": "stdout",
     "output_type": "stream",
     "text": [
      "Epoch 1/15\n",
      "  2/593 [..............................] - ETA: 2:33 - loss: 1119.5051 - dense_3_loss: 1114.7317 - dense_8_loss: 4.7735 - dense_3_mae: 28.0326 - dense_3_accuracy: 0.0312 - dense_8_mae: 0.5000 - dense_8_accuracy: 0.5469  WARNING:tensorflow:Callbacks method `on_train_batch_end` is slow compared to the batch time (batch time: 0.1195s vs `on_train_batch_end` time: 0.3983s). Check your callbacks.\n",
      "593/593 [==============================] - ETA: 0s - loss: 330.1174 - dense_3_loss: 328.9267 - dense_8_loss: 1.1907 - dense_3_mae: 13.2298 - dense_3_accuracy: 0.0204 - dense_8_mae: 0.5000 - dense_8_accuracy: 0.6447\n",
      "Epoch 00001: val_loss improved from inf to 562.58514, saving model to model\\AgeGenderModel.h5\n",
      "593/593 [==============================] - 331s 558ms/step - loss: 330.1174 - dense_3_loss: 328.9267 - dense_8_loss: 1.1907 - dense_3_mae: 13.2298 - dense_3_accuracy: 0.0204 - dense_8_mae: 0.5000 - dense_8_accuracy: 0.6447 - val_loss: 562.5851 - val_dense_3_loss: 561.9858 - val_dense_8_loss: 0.5994 - val_dense_3_mae: 19.7339 - val_dense_3_accuracy: 0.0517 - val_dense_8_mae: 0.5000 - val_dense_8_accuracy: 0.6913\n",
      "Epoch 2/15\n",
      "593/593 [==============================] - ETA: 0s - loss: 150.6718 - dense_3_loss: 150.2868 - dense_8_loss: 0.3850 - dense_3_mae: 9.0130 - dense_3_accuracy: 0.0071 - dense_8_mae: 0.5000 - dense_8_accuracy: 0.8267\n",
      "Epoch 00002: val_loss improved from 562.58514 to 158.67061, saving model to model\\AgeGenderModel.h5\n",
      "593/593 [==============================] - 346s 584ms/step - loss: 150.6718 - dense_3_loss: 150.2868 - dense_8_loss: 0.3850 - dense_3_mae: 9.0130 - dense_3_accuracy: 0.0071 - dense_8_mae: 0.5000 - dense_8_accuracy: 0.8267 - val_loss: 158.6706 - val_dense_3_loss: 158.3095 - val_dense_8_loss: 0.3611 - val_dense_3_mae: 9.3528 - val_dense_3_accuracy: 0.0120 - val_dense_8_mae: 0.5000 - val_dense_8_accuracy: 0.8513\n",
      "Epoch 3/15\n",
      "593/593 [==============================] - ETA: 0s - loss: 103.9905 - dense_3_loss: 103.6742 - dense_8_loss: 0.3163 - dense_3_mae: 7.5253 - dense_3_accuracy: 0.0038 - dense_8_mae: 0.5000 - dense_8_accuracy: 0.8639\n",
      "Epoch 00003: val_loss improved from 158.67061 to 149.45946, saving model to model\\AgeGenderModel.h5\n",
      "593/593 [==============================] - 342s 577ms/step - loss: 103.9905 - dense_3_loss: 103.6742 - dense_8_loss: 0.3163 - dense_3_mae: 7.5253 - dense_3_accuracy: 0.0038 - dense_8_mae: 0.5000 - dense_8_accuracy: 0.8639 - val_loss: 149.4595 - val_dense_3_loss: 149.1534 - val_dense_8_loss: 0.3061 - val_dense_3_mae: 8.7061 - val_dense_3_accuracy: 0.0036 - val_dense_8_mae: 0.5000 - val_dense_8_accuracy: 0.8640\n",
      "Epoch 4/15\n",
      "593/593 [==============================] - ETA: 0s - loss: 80.2653 - dense_3_loss: 79.9659 - dense_8_loss: 0.2993 - dense_3_mae: 6.6233 - dense_3_accuracy: 0.0035 - dense_8_mae: 0.5000 - dense_8_accuracy: 0.8694\n",
      "Epoch 00004: val_loss improved from 149.45946 to 137.29309, saving model to model\\AgeGenderModel.h5\n",
      "593/593 [==============================] - 328s 553ms/step - loss: 80.2653 - dense_3_loss: 79.9659 - dense_8_loss: 0.2993 - dense_3_mae: 6.6233 - dense_3_accuracy: 0.0035 - dense_8_mae: 0.5000 - dense_8_accuracy: 0.8694 - val_loss: 137.2931 - val_dense_3_loss: 136.8977 - val_dense_8_loss: 0.3954 - val_dense_3_mae: 8.8341 - val_dense_3_accuracy: 0.0084 - val_dense_8_mae: 0.5000 - val_dense_8_accuracy: 0.8530\n",
      "Epoch 5/15\n",
      "593/593 [==============================] - ETA: 0s - loss: 67.2749 - dense_3_loss: 66.9975 - dense_8_loss: 0.2773 - dense_3_mae: 6.0512 - dense_3_accuracy: 0.0043 - dense_8_mae: 0.5000 - dense_8_accuracy: 0.8815\n",
      "Epoch 00005: val_loss did not improve from 137.29309\n",
      "593/593 [==============================] - 322s 543ms/step - loss: 67.2749 - dense_3_loss: 66.9975 - dense_8_loss: 0.2773 - dense_3_mae: 6.0512 - dense_3_accuracy: 0.0043 - dense_8_mae: 0.5000 - dense_8_accuracy: 0.8815 - val_loss: 218.3034 - val_dense_3_loss: 218.0085 - val_dense_8_loss: 0.2950 - val_dense_3_mae: 11.7108 - val_dense_3_accuracy: 0.0158 - val_dense_8_mae: 0.5000 - val_dense_8_accuracy: 0.8779\n",
      "Epoch 6/15\n",
      "593/593 [==============================] - ETA: 0s - loss: 51.4106 - dense_3_loss: 51.1634 - dense_8_loss: 0.2472 - dense_3_mae: 5.3593 - dense_3_accuracy: 0.0043 - dense_8_mae: 0.5000 - dense_8_accuracy: 0.8885\n",
      "Epoch 00006: val_loss improved from 137.29309 to 90.29823, saving model to model\\AgeGenderModel.h5\n",
      "593/593 [==============================] - 328s 553ms/step - loss: 51.4106 - dense_3_loss: 51.1634 - dense_8_loss: 0.2472 - dense_3_mae: 5.3593 - dense_3_accuracy: 0.0043 - dense_8_mae: 0.5000 - dense_8_accuracy: 0.8885 - val_loss: 90.2982 - val_dense_3_loss: 89.9954 - val_dense_8_loss: 0.3029 - val_dense_3_mae: 6.8065 - val_dense_3_accuracy: 0.0118 - val_dense_8_mae: 0.5000 - val_dense_8_accuracy: 0.8863\n",
      "Epoch 7/15\n",
      "593/593 [==============================] - ETA: 0s - loss: 41.9978 - dense_3_loss: 41.7828 - dense_8_loss: 0.2150 - dense_3_mae: 4.7975 - dense_3_accuracy: 0.0056 - dense_8_mae: 0.5000 - dense_8_accuracy: 0.9059\n",
      "Epoch 00007: val_loss did not improve from 90.29823\n",
      "593/593 [==============================] - 322s 544ms/step - loss: 41.9978 - dense_3_loss: 41.7828 - dense_8_loss: 0.2150 - dense_3_mae: 4.7975 - dense_3_accuracy: 0.0056 - dense_8_mae: 0.5000 - dense_8_accuracy: 0.9059 - val_loss: 123.7479 - val_dense_3_loss: 123.4223 - val_dense_8_loss: 0.3257 - val_dense_3_mae: 8.4922 - val_dense_3_accuracy: 0.0226 - val_dense_8_mae: 0.5000 - val_dense_8_accuracy: 0.8760\n",
      "Epoch 8/15\n",
      "593/593 [==============================] - ETA: 0s - loss: 34.4830 - dense_3_loss: 34.2892 - dense_8_loss: 0.1938 - dense_3_mae: 4.3715 - dense_3_accuracy: 0.0052 - dense_8_mae: 0.5000 - dense_8_accuracy: 0.9171\n",
      "Epoch 00008: val_loss did not improve from 90.29823\n",
      "593/593 [==============================] - 339s 571ms/step - loss: 34.4830 - dense_3_loss: 34.2892 - dense_8_loss: 0.1938 - dense_3_mae: 4.3715 - dense_3_accuracy: 0.0052 - dense_8_mae: 0.5000 - dense_8_accuracy: 0.9171 - val_loss: 104.4074 - val_dense_3_loss: 104.0577 - val_dense_8_loss: 0.3497 - val_dense_3_mae: 7.3776 - val_dense_3_accuracy: 0.0169 - val_dense_8_mae: 0.5000 - val_dense_8_accuracy: 0.8779\n",
      "Epoch 9/15\n",
      "593/593 [==============================] - ETA: 0s - loss: 31.1482 - dense_3_loss: 30.9724 - dense_8_loss: 0.1758 - dense_3_mae: 4.1396 - dense_3_accuracy: 0.0070 - dense_8_mae: 0.5000 - dense_8_accuracy: 0.9229\n",
      "Epoch 00009: val_loss did not improve from 90.29823\n",
      "593/593 [==============================] - 339s 572ms/step - loss: 31.1482 - dense_3_loss: 30.9724 - dense_8_loss: 0.1758 - dense_3_mae: 4.1396 - dense_3_accuracy: 0.0070 - dense_8_mae: 0.5000 - dense_8_accuracy: 0.9229 - val_loss: 107.4121 - val_dense_3_loss: 106.9808 - val_dense_8_loss: 0.4313 - val_dense_3_mae: 7.5279 - val_dense_3_accuracy: 0.0167 - val_dense_8_mae: 0.5000 - val_dense_8_accuracy: 0.8827\n",
      "Epoch 10/15\n",
      "593/593 [==============================] - ETA: 0s - loss: 28.0141 - dense_3_loss: 27.8568 - dense_8_loss: 0.1573 - dense_3_mae: 3.8971 - dense_3_accuracy: 0.0074 - dense_8_mae: 0.5000 - dense_8_accuracy: 0.9277\n",
      "Epoch 00010: val_loss did not improve from 90.29823\n",
      "593/593 [==============================] - 376s 634ms/step - loss: 28.0141 - dense_3_loss: 27.8568 - dense_8_loss: 0.1573 - dense_3_mae: 3.8971 - dense_3_accuracy: 0.0074 - dense_8_mae: 0.5000 - dense_8_accuracy: 0.9277 - val_loss: 97.0597 - val_dense_3_loss: 96.6153 - val_dense_8_loss: 0.4444 - val_dense_3_mae: 6.9345 - val_dense_3_accuracy: 0.0089 - val_dense_8_mae: 0.5000 - val_dense_8_accuracy: 0.8865\n",
      "Epoch 11/15\n",
      "593/593 [==============================] - ETA: 0s - loss: 25.1124 - dense_3_loss: 24.9752 - dense_8_loss: 0.1372 - dense_3_mae: 3.6383 - dense_3_accuracy: 0.0100 - dense_8_mae: 0.5000 - dense_8_accuracy: 0.9415\n",
      "Epoch 00011: val_loss did not improve from 90.29823\n",
      "593/593 [==============================] - 334s 564ms/step - loss: 25.1124 - dense_3_loss: 24.9752 - dense_8_loss: 0.1372 - dense_3_mae: 3.6383 - dense_3_accuracy: 0.0100 - dense_8_mae: 0.5000 - dense_8_accuracy: 0.9415 - val_loss: 93.0617 - val_dense_3_loss: 92.4560 - val_dense_8_loss: 0.6057 - val_dense_3_mae: 6.8098 - val_dense_3_accuracy: 0.0318 - val_dense_8_mae: 0.5000 - val_dense_8_accuracy: 0.8870\n",
      "Epoch 12/15\n",
      "593/593 [==============================] - ETA: 0s - loss: 22.2204 - dense_3_loss: 22.0880 - dense_8_loss: 0.1323 - dense_3_mae: 3.3505 - dense_3_accuracy: 0.0139 - dense_8_mae: 0.5000 - dense_8_accuracy: 0.9454\n",
      "Epoch 00012: val_loss did not improve from 90.29823\n",
      "593/593 [==============================] - 334s 564ms/step - loss: 22.2204 - dense_3_loss: 22.0880 - dense_8_loss: 0.1323 - dense_3_mae: 3.3505 - dense_3_accuracy: 0.0139 - dense_8_mae: 0.5000 - dense_8_accuracy: 0.9454 - val_loss: 93.0199 - val_dense_3_loss: 92.4609 - val_dense_8_loss: 0.5590 - val_dense_3_mae: 6.6997 - val_dense_3_accuracy: 0.0224 - val_dense_8_mae: 0.5000 - val_dense_8_accuracy: 0.8895\n",
      "Epoch 13/15\n",
      "593/593 [==============================] - ETA: 0s - loss: 22.7856 - dense_3_loss: 22.6842 - dense_8_loss: 0.1014 - dense_3_mae: 3.3416 - dense_3_accuracy: 0.0165 - dense_8_mae: 0.5000 - dense_8_accuracy: 0.9567\n",
      "Epoch 00013: val_loss improved from 90.29823 to 89.87280, saving model to model\\AgeGenderModel.h5\n",
      "593/593 [==============================] - 342s 577ms/step - loss: 22.7856 - dense_3_loss: 22.6842 - dense_8_loss: 0.1014 - dense_3_mae: 3.3416 - dense_3_accuracy: 0.0165 - dense_8_mae: 0.5000 - dense_8_accuracy: 0.9567 - val_loss: 89.8728 - val_dense_3_loss: 88.2863 - val_dense_8_loss: 1.5865 - val_dense_3_mae: 6.5667 - val_dense_3_accuracy: 0.0179 - val_dense_8_mae: 0.5000 - val_dense_8_accuracy: 0.8775\n",
      "Epoch 14/15\n",
      "593/593 [==============================] - ETA: 0s - loss: 19.6608 - dense_3_loss: 19.5543 - dense_8_loss: 0.1065 - dense_3_mae: 3.1100 - dense_3_accuracy: 0.0194 - dense_8_mae: 0.5000 - dense_8_accuracy: 0.9582\n",
      "Epoch 00014: val_loss improved from 89.87280 to 85.38910, saving model to model\\AgeGenderModel.h5\n",
      "593/593 [==============================] - 337s 568ms/step - loss: 19.6608 - dense_3_loss: 19.5543 - dense_8_loss: 0.1065 - dense_3_mae: 3.1100 - dense_3_accuracy: 0.0194 - dense_8_mae: 0.5000 - dense_8_accuracy: 0.9582 - val_loss: 85.3891 - val_dense_3_loss: 84.9838 - val_dense_8_loss: 0.4053 - val_dense_3_mae: 6.4571 - val_dense_3_accuracy: 0.0377 - val_dense_8_mae: 0.5000 - val_dense_8_accuracy: 0.8943\n",
      "Epoch 15/15\n",
      "593/593 [==============================] - ETA: 0s - loss: 15.7348 - dense_3_loss: 15.6455 - dense_8_loss: 0.0893 - dense_3_mae: 2.7716 - dense_3_accuracy: 0.0256 - dense_8_mae: 0.5000 - dense_8_accuracy: 0.9626\n",
      "Epoch 00015: val_loss did not improve from 85.38910\n",
      "593/593 [==============================] - 334s 564ms/step - loss: 15.7348 - dense_3_loss: 15.6455 - dense_8_loss: 0.0893 - dense_3_mae: 2.7716 - dense_3_accuracy: 0.0256 - dense_8_mae: 0.5000 - dense_8_accuracy: 0.9626 - val_loss: 90.0854 - val_dense_3_loss: 89.5060 - val_dense_8_loss: 0.5793 - val_dense_3_mae: 6.7704 - val_dense_3_accuracy: 0.0380 - val_dense_8_mae: 0.5000 - val_dense_8_accuracy: 0.8897\n"
     ]
    }
   ],
   "source": [
    "History = model.fit(x_train,[y_train,y_train_2],validation_data=(x_test,[y_test,y_test_2]),epochs=15, callbacks=callback_list)"
   ],
   "metadata": {
    "collapsed": false,
    "pycharm": {
     "name": "#%%\n"
    }
   }
  },
  {
   "cell_type": "code",
   "execution_count": 10,
   "outputs": [],
   "source": [
    "model.save(\"model/AgeGenderModel.h5\")"
   ],
   "metadata": {
    "collapsed": false,
    "pycharm": {
     "name": "#%%\n"
    }
   }
  },
  {
   "cell_type": "code",
   "execution_count": 11,
   "outputs": [
    {
     "data": {
      "text/plain": "<Figure size 432x288 with 1 Axes>",
      "image/png": "[encoded data removed]"
     },
     "metadata": {
      "needs_background": "light"
     },
     "output_type": "display_data"
    }
   ],
   "source": [
    "plt.plot(History.history['dense_8_accuracy'])\n",
    "plt.plot(History.history['val_dense_8_accuracy'])\n",
    "plt.title('Model Accuracy')\n",
    "plt.xlabel('Epoch')\n",
    "plt.ylabel('Accuracy')\n",
    "plt.legend(['Train','Validation'],loc='upper left')\n",
    "plt.subplots_adjust(top=1.0,bottom=0.0,right=0.95,left=0,hspace=0.25,wspace=0.35)"
   ],
   "metadata": {
    "collapsed": false,
    "pycharm": {
     "name": "#%%\n"
    }
   }
  },
  {
   "cell_type": "code",
   "execution_count": 12,
   "outputs": [
    {
     "data": {
      "text/plain": "<Figure size 432x288 with 1 Axes>",
      "image/png": "[encoded data removed]"
     },
     "metadata": {
      "needs_background": "light"
     },
     "output_type": "display_data"
    }
   ],
   "source": [
    "plt.plot(History.history['loss'])\n",
    "plt.plot(History.history['val_loss'])\n",
    "plt.title('Model Loss')\n",
    "plt.xlabel('Epoch')\n",
    "plt.ylabel('Loss')\n",
    "plt.legend(['Train','Validation'],loc='upper left')\n",
    "plt.subplots_adjust(top=1.0,bottom=0.0,right=0.95,left=0,hspace=0.25,wspace=0.35)"
   ],
   "metadata": {
    "collapsed": false,
    "pycharm": {
     "name": "#%%\n"
    }
   }
  }
 ],
 "metadata": {
  "kernelspec": {
   "display_name": "Python 3",
   "language": "python",
   "name": "python3"
  },
  "language_info": {
   "codemirror_mode": {
    "name": "ipython",
    "version": 2
   },
   "file_extension": ".py",
   "mimetype": "text/x-python",
   "name": "python",
   "nbconvert_exporter": "python",
   "pygments_lexer": "ipython2",
   "version": "2.7.6"
  }
 },
 "nbformat": 4,
 "nbformat_minor": 0
}